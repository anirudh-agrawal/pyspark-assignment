{
 "cells": [
  {
   "cell_type": "markdown",
   "metadata": {},
   "source": [
    "# Weather data for 2000 to 2013\n",
    "\n",
    "Courtesy of https://globalweather.tamu.edu/"
   ]
  },
  {
   "cell_type": "markdown",
   "metadata": {},
   "source": [
    "Tasks to be carried out to extract the data:\n",
    "\n",
    "1. Need to extract all csv files from zips.\n",
    "2. Map all (lat,long,Id) to closest IMD station"
   ]
  },
  {
   "cell_type": "code",
   "execution_count": 21,
   "metadata": {},
   "outputs": [],
   "source": [
    "import os, requests"
   ]
  },
  {
   "cell_type": "code",
   "execution_count": 22,
   "metadata": {},
   "outputs": [],
   "source": [
    "links=[\n",
    "    \"https://globalweather.tamu.edu/data/cfsr/31052_2020-09-26-18-18-42.zip\",\n",
    "    \"https://globalweather.tamu.edu/data/cfsr/31053_2020-09-26-18-20-37.zip\",\n",
    "    \"https://globalweather.tamu.edu/data/cfsr/31054_2020-09-26-18-23-15.zip\",\n",
    "    \"https://globalweather.tamu.edu/data/cfsr/31055_2020-09-26-18-24-39.zip\",\n",
    "    \"https://globalweather.tamu.edu/data/cfsr/31056_2020-09-26-18-34-36.zip\",\n",
    "    \"https://globalweather.tamu.edu/data/cfsr/31057_2020-09-26-18-50-33.zip\",\n",
    "    \"https://globalweather.tamu.edu/data/cfsr/31058_2020-09-26-18-51-55.zip\",\n",
    "    \"https://globalweather.tamu.edu/data/cfsr/31059_2020-09-26-18-53-13.zip\"\n",
    "]"
   ]
  },
  {
   "cell_type": "code",
   "execution_count": 23,
   "metadata": {},
   "outputs": [],
   "source": [
    "#set directory\n",
    "os.chdir(\"/home/bigdatauser07/Datasets/2000_2013\")"
   ]
  },
  {
   "cell_type": "code",
   "execution_count": 24,
   "metadata": {},
   "outputs": [
    {
     "name": "stdout",
     "output_type": "stream",
     "text": [
      "Completed: 31052_2020-09-26-18-18-42.zip\n",
      "Completed: 31053_2020-09-26-18-20-37.zip\n",
      "Completed: 31054_2020-09-26-18-23-15.zip\n",
      "Completed: 31055_2020-09-26-18-24-39.zip\n",
      "Completed: 31056_2020-09-26-18-34-36.zip\n",
      "Completed: 31057_2020-09-26-18-50-33.zip\n",
      "Completed: 31058_2020-09-26-18-51-55.zip\n",
      "Completed: 31059_2020-09-26-18-53-13.zip\n"
     ]
    }
   ],
   "source": [
    "#Saving files to disk\n",
    "for link in links:\n",
    "    filename = link.split(\"/\")[-1]\n",
    "    #with open (filename,\"wb+\") as f:\n",
    "    #    f.write(requests.get(link).content)\n",
    "    print(\"Completed: \"+filename)"
   ]
  },
  {
   "cell_type": "code",
   "execution_count": 25,
   "metadata": {},
   "outputs": [
    {
     "name": "stdout",
     "output_type": "stream",
     "text": [
      "unzip 31052_2020-09-26-18-18-42.zip\n",
      "unzip 31053_2020-09-26-18-20-37.zip\n",
      "unzip 31054_2020-09-26-18-23-15.zip\n",
      "unzip 31055_2020-09-26-18-24-39.zip\n",
      "unzip 31056_2020-09-26-18-34-36.zip\n",
      "unzip 31057_2020-09-26-18-50-33.zip\n",
      "unzip 31058_2020-09-26-18-51-55.zip\n",
      "unzip 31059_2020-09-26-18-53-13.zip\n"
     ]
    }
   ],
   "source": [
    "#extract zip files\n",
    "filenames = [link.split(\"/\")[-1] for link in links]\n",
    "#print(filenames)\n",
    "for file in filenames:\n",
    "    command = \"unzip {src}\".format(src=file)\n",
    "    print(command)\n",
    "    #os.popen(command).read()"
   ]
  },
  {
   "cell_type": "markdown",
   "metadata": {},
   "source": [
    "~~~Text\n",
    "To collect the data in seperate folders to single directory, navigate to /Datasets/2000_2013 \n",
    "and execute following commands on shell:\n",
    "\n",
    "mkdir files\n",
    "mv ./*/*.csv ./files\n",
    "\n",
    "Execute generateIdLocMap.sh to get list of filenames and corresponding first line of data from the station\n",
    "~~~"
   ]
  },
  {
   "cell_type": "markdown",
   "metadata": {},
   "source": [
    "### Generate StationsID.csv"
   ]
  },
  {
   "cell_type": "code",
   "execution_count": 26,
   "metadata": {},
   "outputs": [],
   "source": [
    "import re"
   ]
  },
  {
   "cell_type": "code",
   "execution_count": 27,
   "metadata": {},
   "outputs": [],
   "source": [
    "with open(\"StationsID.txt\") as f:\n",
    "    lines = f.readlines()"
   ]
  },
  {
   "cell_type": "code",
   "execution_count": 28,
   "metadata": {},
   "outputs": [
    {
     "data": {
      "text/plain": [
       "['\\n',\n",
       " 'weatherdata-101756.csv \"1/1/2000\",\"75.625\",\"10.1473999023438\",\"-9999\",\"27.737\",\"24.894\",\"0\",\"3.96665100235574\",\"0.655047820134731\",\\n',\n",
       " 'weatherdata-101759.csv \"1/1/2000\",\"75.9375\",\"10.1473999023438\",\"-9999\",\"29.133\",\"23.389\",\"0\",\"3.11350956058353\",\"0.660176509661359\",\\n',\n",
       " 'weatherdata-101763.csv \"1/1/2000\",\"76.25\",\"10.1473999023438\",\"4\",\"35.986\",\"21.162\",\"0\",\"1.43718386128422\",\"0.537279738548041\",\\n',\n",
       " 'weatherdata-101766.csv \"1/1/2000\",\"76.5625\",\"10.1473999023438\",\"39\",\"32.625\",\"18.963\",\"0\",\"1.67327671725339\",\"0.579111129325065\",\\n']"
      ]
     },
     "execution_count": 28,
     "metadata": {},
     "output_type": "execute_result"
    }
   ],
   "source": [
    "#Get sample lines\n",
    "lines[:5]"
   ]
  },
  {
   "cell_type": "code",
   "execution_count": 29,
   "metadata": {},
   "outputs": [
    {
     "data": {
      "text/plain": [
       "['\\n',\n",
       " '101756,75.625,10.1473999023438\\n',\n",
       " '101759,75.9375,10.1473999023438\\n',\n",
       " '101763,76.25,10.1473999023438\\n',\n",
       " '101766,76.5625,10.1473999023438\\n']"
      ]
     },
     "execution_count": 29,
     "metadata": {},
     "output_type": "execute_result"
    }
   ],
   "source": [
    "#define the regular expression\n",
    "regex = r'[^-]*-(\\d+)[^,]*,\"([\\d\\.]+)\",\"([\\d\\.]+).*'\n",
    "#define replacement value\n",
    "replace = \"\\\\1,\\\\2,\\\\3\"\n",
    "\n",
    "#apply regex replace on all lines\n",
    "lines = [ re.sub(regex,replace,line) for line in lines]\n",
    "#check lines\n",
    "lines[:5]"
   ]
  },
  {
   "cell_type": "code",
   "execution_count": 30,
   "metadata": {},
   "outputs": [],
   "source": [
    "with open(\"StationsID.csv\",\"w+\") as f:\n",
    "    f.write(\"Id,Longitude,Latitude\")\n",
    "    for line in lines:\n",
    "        f.write(line)"
   ]
  },
  {
   "cell_type": "markdown",
   "metadata": {},
   "source": [
    "## WeatherStations"
   ]
  },
  {
   "cell_type": "markdown",
   "metadata": {},
   "source": [
    "The data in file WeatherStations.csv has been obtained from India Meteorological Department(IMD).\n",
    "Link: http://www.imdpune.gov.in/ndc_new/stations/DRMS_STN.html"
   ]
  }
 ],
 "metadata": {
  "kernelspec": {
   "display_name": "Python 3",
   "language": "python",
   "name": "python3"
  },
  "language_info": {
   "codemirror_mode": {
    "name": "ipython",
    "version": 3
   },
   "file_extension": ".py",
   "mimetype": "text/x-python",
   "name": "python",
   "nbconvert_exporter": "python",
   "pygments_lexer": "ipython3",
   "version": "3.7.6"
  }
 },
 "nbformat": 4,
 "nbformat_minor": 4
}
